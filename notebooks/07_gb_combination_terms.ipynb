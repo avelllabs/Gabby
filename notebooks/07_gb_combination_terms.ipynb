{
 "cells": [
  {
   "cell_type": "markdown",
   "metadata": {},
   "source": [
    "## In this notebook\n",
    "\n",
    "- We contruct a combination ranking based on the top 1000 terms and ranks\n",
    "\n",
    "- We store the phrase2idx and phrase2vector mapping as a pickle\n",
    "\n",
    "- We construct and save a nearest neighbor object to help find the closest phrases"
   ]
  },
  {
   "cell_type": "markdown",
   "metadata": {},
   "source": []
  }
 ],
 "metadata": {
  "language_info": {
   "name": "python"
  },
  "orig_nbformat": 4
 },
 "nbformat": 4,
 "nbformat_minor": 2
}
