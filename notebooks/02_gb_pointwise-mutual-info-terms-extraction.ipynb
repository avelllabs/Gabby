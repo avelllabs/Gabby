{
 "cells": [
  {
   "cell_type": "markdown",
   "metadata": {},
   "source": [
    "## In this notebook\n",
    "\n",
    "We implement pointwise mutual information based n-grams extraction to pick out key terms and phrases from reviews\n",
    "\n",
    "**TODO**: We need more data to test this out correctly"
   ]
  },
  {
   "cell_type": "code",
   "execution_count": 1,
   "metadata": {},
   "outputs": [],
   "source": [
    "import pandas as pd"
   ]
  },
  {
   "cell_type": "code",
   "execution_count": 3,
   "metadata": {},
   "outputs": [],
   "source": [
    "import nltk"
   ]
  },
  {
   "cell_type": "markdown",
   "metadata": {},
   "source": [
    "### load the data"
   ]
  },
  {
   "cell_type": "code",
   "execution_count": 8,
   "metadata": {},
   "outputs": [],
   "source": [
    "df = pd.read_excel(\"../data/test_data.xlsx\", index_col=0)"
   ]
  },
  {
   "cell_type": "code",
   "execution_count": 9,
   "metadata": {},
   "outputs": [
    {
     "data": {
      "text/html": [
       "<div>\n",
       "<style scoped>\n",
       "    .dataframe tbody tr th:only-of-type {\n",
       "        vertical-align: middle;\n",
       "    }\n",
       "\n",
       "    .dataframe tbody tr th {\n",
       "        vertical-align: top;\n",
       "    }\n",
       "\n",
       "    .dataframe thead th {\n",
       "        text-align: right;\n",
       "    }\n",
       "</style>\n",
       "<table border=\"1\" class=\"dataframe\">\n",
       "  <thead>\n",
       "    <tr style=\"text-align: right;\">\n",
       "      <th></th>\n",
       "      <th>title</th>\n",
       "      <th>review</th>\n",
       "      <th>review_date</th>\n",
       "      <th>will_recommend</th>\n",
       "    </tr>\n",
       "  </thead>\n",
       "  <tbody>\n",
       "    <tr>\n",
       "      <th>0</th>\n",
       "      <td>Simply the best</td>\n",
       "      <td>Outstanding picture color and brightness. I ch...</td>\n",
       "      <td>April 8, 2022</td>\n",
       "      <td>Yes</td>\n",
       "    </tr>\n",
       "    <tr>\n",
       "      <th>1</th>\n",
       "      <td>65\" Bravia XR A90J Smart TV &amp; JBL 501 Soundbar</td>\n",
       "      <td>Excellent installation job of my 65\" Sony XR A...</td>\n",
       "      <td>October 30, 2021</td>\n",
       "      <td>Yes</td>\n",
       "    </tr>\n",
       "    <tr>\n",
       "      <th>2</th>\n",
       "      <td>The Best of All</td>\n",
       "      <td>Best color of any that TV I have see. Even the...</td>\n",
       "      <td>December 12, 2021</td>\n",
       "      <td>Yes</td>\n",
       "    </tr>\n",
       "    <tr>\n",
       "      <th>3</th>\n",
       "      <td>A JAW DROPPING, STUNNING MASTERPIECE!</td>\n",
       "      <td>I've owned several oleds from LG and Sony and ...</td>\n",
       "      <td>May 11, 2021</td>\n",
       "      <td>Yes</td>\n",
       "    </tr>\n",
       "    <tr>\n",
       "      <th>4</th>\n",
       "      <td>Absolutely AMAZING!</td>\n",
       "      <td>Ive been an Oled fan since they became availab...</td>\n",
       "      <td>April 22, 2022</td>\n",
       "      <td>Yes</td>\n",
       "    </tr>\n",
       "  </tbody>\n",
       "</table>\n",
       "</div>"
      ],
      "text/plain": [
       "                                            title  \\\n",
       "0                                 Simply the best   \n",
       "1  65\" Bravia XR A90J Smart TV & JBL 501 Soundbar   \n",
       "2                                 The Best of All   \n",
       "3           A JAW DROPPING, STUNNING MASTERPIECE!   \n",
       "4                             Absolutely AMAZING!   \n",
       "\n",
       "                                              review        review_date  \\\n",
       "0  Outstanding picture color and brightness. I ch...      April 8, 2022   \n",
       "1  Excellent installation job of my 65\" Sony XR A...   October 30, 2021   \n",
       "2  Best color of any that TV I have see. Even the...  December 12, 2021   \n",
       "3  I've owned several oleds from LG and Sony and ...       May 11, 2021   \n",
       "4  Ive been an Oled fan since they became availab...     April 22, 2022   \n",
       "\n",
       "  will_recommend  \n",
       "0            Yes  \n",
       "1            Yes  \n",
       "2            Yes  \n",
       "3            Yes  \n",
       "4            Yes  "
      ]
     },
     "execution_count": 9,
     "metadata": {},
     "output_type": "execute_result"
    }
   ],
   "source": [
    "df.head()"
   ]
  },
  {
   "cell_type": "code",
   "execution_count": 10,
   "metadata": {},
   "outputs": [],
   "source": [
    "df['contents'] = df['title'] + '.\\n\\n' + df['review']"
   ]
  },
  {
   "cell_type": "code",
   "execution_count": 12,
   "metadata": {},
   "outputs": [
    {
     "data": {
      "text/html": [
       "<div>\n",
       "<style scoped>\n",
       "    .dataframe tbody tr th:only-of-type {\n",
       "        vertical-align: middle;\n",
       "    }\n",
       "\n",
       "    .dataframe tbody tr th {\n",
       "        vertical-align: top;\n",
       "    }\n",
       "\n",
       "    .dataframe thead th {\n",
       "        text-align: right;\n",
       "    }\n",
       "</style>\n",
       "<table border=\"1\" class=\"dataframe\">\n",
       "  <thead>\n",
       "    <tr style=\"text-align: right;\">\n",
       "      <th></th>\n",
       "      <th>title</th>\n",
       "      <th>review</th>\n",
       "      <th>review_date</th>\n",
       "      <th>will_recommend</th>\n",
       "      <th>contents</th>\n",
       "    </tr>\n",
       "  </thead>\n",
       "  <tbody>\n",
       "    <tr>\n",
       "      <th>0</th>\n",
       "      <td>Simply the best</td>\n",
       "      <td>Outstanding picture color and brightness. I ch...</td>\n",
       "      <td>April 8, 2022</td>\n",
       "      <td>Yes</td>\n",
       "      <td>Simply the best.\\n\\nOutstanding picture color ...</td>\n",
       "    </tr>\n",
       "    <tr>\n",
       "      <th>1</th>\n",
       "      <td>65\" Bravia XR A90J Smart TV &amp; JBL 501 Soundbar</td>\n",
       "      <td>Excellent installation job of my 65\" Sony XR A...</td>\n",
       "      <td>October 30, 2021</td>\n",
       "      <td>Yes</td>\n",
       "      <td>65\" Bravia XR A90J Smart TV &amp; JBL 501 Soundbar...</td>\n",
       "    </tr>\n",
       "    <tr>\n",
       "      <th>2</th>\n",
       "      <td>The Best of All</td>\n",
       "      <td>Best color of any that TV I have see. Even the...</td>\n",
       "      <td>December 12, 2021</td>\n",
       "      <td>Yes</td>\n",
       "      <td>The Best of All.\\n\\nBest color of any that TV ...</td>\n",
       "    </tr>\n",
       "    <tr>\n",
       "      <th>3</th>\n",
       "      <td>A JAW DROPPING, STUNNING MASTERPIECE!</td>\n",
       "      <td>I've owned several oleds from LG and Sony and ...</td>\n",
       "      <td>May 11, 2021</td>\n",
       "      <td>Yes</td>\n",
       "      <td>A JAW DROPPING, STUNNING MASTERPIECE!.\\n\\nI've...</td>\n",
       "    </tr>\n",
       "    <tr>\n",
       "      <th>4</th>\n",
       "      <td>Absolutely AMAZING!</td>\n",
       "      <td>Ive been an Oled fan since they became availab...</td>\n",
       "      <td>April 22, 2022</td>\n",
       "      <td>Yes</td>\n",
       "      <td>Absolutely AMAZING!.\\n\\nIve been an Oled fan s...</td>\n",
       "    </tr>\n",
       "  </tbody>\n",
       "</table>\n",
       "</div>"
      ],
      "text/plain": [
       "                                            title  \\\n",
       "0                                 Simply the best   \n",
       "1  65\" Bravia XR A90J Smart TV & JBL 501 Soundbar   \n",
       "2                                 The Best of All   \n",
       "3           A JAW DROPPING, STUNNING MASTERPIECE!   \n",
       "4                             Absolutely AMAZING!   \n",
       "\n",
       "                                              review        review_date  \\\n",
       "0  Outstanding picture color and brightness. I ch...      April 8, 2022   \n",
       "1  Excellent installation job of my 65\" Sony XR A...   October 30, 2021   \n",
       "2  Best color of any that TV I have see. Even the...  December 12, 2021   \n",
       "3  I've owned several oleds from LG and Sony and ...       May 11, 2021   \n",
       "4  Ive been an Oled fan since they became availab...     April 22, 2022   \n",
       "\n",
       "  will_recommend                                           contents  \n",
       "0            Yes  Simply the best.\\n\\nOutstanding picture color ...  \n",
       "1            Yes  65\" Bravia XR A90J Smart TV & JBL 501 Soundbar...  \n",
       "2            Yes  The Best of All.\\n\\nBest color of any that TV ...  \n",
       "3            Yes  A JAW DROPPING, STUNNING MASTERPIECE!.\\n\\nI've...  \n",
       "4            Yes  Absolutely AMAZING!.\\n\\nIve been an Oled fan s...  "
      ]
     },
     "execution_count": 12,
     "metadata": {},
     "output_type": "execute_result"
    }
   ],
   "source": [
    "df.head()"
   ]
  },
  {
   "cell_type": "markdown",
   "metadata": {},
   "source": [
    "### tokenization"
   ]
  },
  {
   "cell_type": "code",
   "execution_count": 18,
   "metadata": {},
   "outputs": [],
   "source": [
    "import spacy"
   ]
  },
  {
   "cell_type": "code",
   "execution_count": 19,
   "metadata": {},
   "outputs": [],
   "source": [
    "nlp = spacy.load('en_core_web_sm')"
   ]
  },
  {
   "cell_type": "code",
   "execution_count": 57,
   "metadata": {},
   "outputs": [],
   "source": [
    "df['review_tokens'] = df['contents'].apply(lambda x: [t.text.lower() for t in nlp(x)])"
   ]
  },
  {
   "cell_type": "code",
   "execution_count": 58,
   "metadata": {},
   "outputs": [
    {
     "data": {
      "text/plain": [
       "0"
      ]
     },
     "execution_count": 58,
     "metadata": {},
     "output_type": "execute_result"
    }
   ],
   "source": [
    "df['review_tokens'].isna().sum()"
   ]
  },
  {
   "cell_type": "markdown",
   "metadata": {},
   "source": [
    "### Bigram collocations for PMI"
   ]
  },
  {
   "cell_type": "code",
   "execution_count": 59,
   "metadata": {},
   "outputs": [],
   "source": [
    "from nltk import BigramCollocationFinder, TrigramCollocationFinder\n",
    "from nltk.collocations import BigramAssocMeasures, TrigramAssocMeasures"
   ]
  },
  {
   "cell_type": "code",
   "execution_count": 60,
   "metadata": {},
   "outputs": [],
   "source": [
    "corpus = df['review_tokens'].sum()"
   ]
  },
  {
   "cell_type": "code",
   "execution_count": 61,
   "metadata": {},
   "outputs": [
    {
     "data": {
      "text/plain": [
       "35811"
      ]
     },
     "execution_count": 61,
     "metadata": {},
     "output_type": "execute_result"
    }
   ],
   "source": [
    "len(corpus)"
   ]
  },
  {
   "cell_type": "code",
   "execution_count": 92,
   "metadata": {},
   "outputs": [],
   "source": [
    "bigram_measures = BigramAssocMeasures()\n",
    "bigrams = BigramCollocationFinder.from_words(corpus)\n",
    "scored_bigrams = bigrams.score_ngrams(bigram_measures.mi_like)"
   ]
  },
  {
   "cell_type": "code",
   "execution_count": 93,
   "metadata": {},
   "outputs": [],
   "source": [
    "trigram_measures = TrigramAssocMeasures()\n",
    "trigrams = TrigramCollocationFinder.from_words(corpus)\n",
    "scored_trigrams = trigrams.score_ngrams(trigram_measures.mi_like)"
   ]
  },
  {
   "cell_type": "code",
   "execution_count": 94,
   "metadata": {},
   "outputs": [],
   "source": [
    "ngram_df = pd.DataFrame({\n",
    "    'phrase': [' '.join(p) for p, score in (scored_bigrams + scored_trigrams)],\n",
    "    'score': [score for p, score in (scored_bigrams + scored_trigrams)]\n",
    "})"
   ]
  },
  {
   "cell_type": "code",
   "execution_count": 95,
   "metadata": {},
   "outputs": [
    {
     "data": {
      "text/html": [
       "<div>\n",
       "<style scoped>\n",
       "    .dataframe tbody tr th:only-of-type {\n",
       "        vertical-align: middle;\n",
       "    }\n",
       "\n",
       "    .dataframe tbody tr th {\n",
       "        vertical-align: top;\n",
       "    }\n",
       "\n",
       "    .dataframe thead th {\n",
       "        text-align: right;\n",
       "    }\n",
       "</style>\n",
       "<table border=\"1\" class=\"dataframe\">\n",
       "  <thead>\n",
       "    <tr style=\"text-align: right;\">\n",
       "      <th></th>\n",
       "      <th>phrase</th>\n",
       "      <th>score</th>\n",
       "    </tr>\n",
       "  </thead>\n",
       "  <tbody>\n",
       "    <tr>\n",
       "      <th>0</th>\n",
       "      <td>. \\n\\n</td>\n",
       "      <td>5.239973e+01</td>\n",
       "    </tr>\n",
       "    <tr>\n",
       "      <th>1</th>\n",
       "      <td>4 k</td>\n",
       "      <td>2.982353e+01</td>\n",
       "    </tr>\n",
       "    <tr>\n",
       "      <th>2</th>\n",
       "      <td>.</td>\n",
       "      <td>2.456458e+01</td>\n",
       "    </tr>\n",
       "    <tr>\n",
       "      <th>3</th>\n",
       "      <td>dolby vision</td>\n",
       "      <td>1.581028e+01</td>\n",
       "    </tr>\n",
       "    <tr>\n",
       "      <th>4</th>\n",
       "      <td>picture quality</td>\n",
       "      <td>1.331303e+01</td>\n",
       "    </tr>\n",
       "    <tr>\n",
       "      <th>...</th>\n",
       "      <td>...</td>\n",
       "      <td>...</td>\n",
       "    </tr>\n",
       "    <tr>\n",
       "      <th>47821</th>\n",
       "      <td>to . the</td>\n",
       "      <td>4.064620e-10</td>\n",
       "    </tr>\n",
       "    <tr>\n",
       "      <th>47822</th>\n",
       "      <td>. is the</td>\n",
       "      <td>3.531979e-10</td>\n",
       "    </tr>\n",
       "    <tr>\n",
       "      <th>47823</th>\n",
       "      <td>. and the</td>\n",
       "      <td>3.165491e-10</td>\n",
       "    </tr>\n",
       "    <tr>\n",
       "      <th>47824</th>\n",
       "      <td>. the the</td>\n",
       "      <td>1.555258e-10</td>\n",
       "    </tr>\n",
       "    <tr>\n",
       "      <th>47825</th>\n",
       "      <td>. . .</td>\n",
       "      <td>1.216849e-10</td>\n",
       "    </tr>\n",
       "  </tbody>\n",
       "</table>\n",
       "<p>47826 rows × 2 columns</p>\n",
       "</div>"
      ],
      "text/plain": [
       "                phrase         score\n",
       "0               . \\n\\n  5.239973e+01\n",
       "1                  4 k  2.982353e+01\n",
       "2                  .    2.456458e+01\n",
       "3         dolby vision  1.581028e+01\n",
       "4      picture quality  1.331303e+01\n",
       "...                ...           ...\n",
       "47821         to . the  4.064620e-10\n",
       "47822         . is the  3.531979e-10\n",
       "47823        . and the  3.165491e-10\n",
       "47824        . the the  1.555258e-10\n",
       "47825            . . .  1.216849e-10\n",
       "\n",
       "[47826 rows x 2 columns]"
      ]
     },
     "execution_count": 95,
     "metadata": {},
     "output_type": "execute_result"
    }
   ],
   "source": [
    "ngram_df"
   ]
  },
  {
   "cell_type": "markdown",
   "metadata": {},
   "source": [
    "### filtering ngrams with stopwords and punctuations\n",
    "\n",
    "remove ngrams with any punctuations\n",
    "\n",
    "trying to filter:\n",
    "- ngrams with any stopwords\n",
    "- ngrams with >1 stopwords \n",
    "\n",
    "and then comparing results"
   ]
  },
  {
   "cell_type": "code",
   "execution_count": 96,
   "metadata": {},
   "outputs": [],
   "source": [
    "def is_alpha_numeric(doc):\n",
    "    # checking if every token in the doc is not a string of punctuations\n",
    "    if all([t.isalnum() for t in doc.split()]):\n",
    "        return True\n",
    "    return False\n",
    "    "
   ]
  },
  {
   "cell_type": "code",
   "execution_count": 97,
   "metadata": {},
   "outputs": [],
   "source": [
    "ngram_no_punct_df = ngram_df[ngram_df['phrase'].apply(lambda p: is_alpha_numeric(p))]"
   ]
  },
  {
   "cell_type": "code",
   "execution_count": 98,
   "metadata": {},
   "outputs": [
    {
     "data": {
      "text/plain": [
       "(34750, 2)"
      ]
     },
     "execution_count": 98,
     "metadata": {},
     "output_type": "execute_result"
    }
   ],
   "source": [
    "ngram_no_punct_df.shape"
   ]
  },
  {
   "cell_type": "code",
   "execution_count": 99,
   "metadata": {},
   "outputs": [],
   "source": [
    "spacy_stopwords = spacy.lang.en.stop_words.STOP_WORDS"
   ]
  },
  {
   "cell_type": "code",
   "execution_count": 100,
   "metadata": {},
   "outputs": [],
   "source": [
    "def contains_stopword(doc):\n",
    "    if any([t in spacy_stopwords for t in doc.split()]):\n",
    "        return True\n",
    "    return False\n",
    "\n",
    "def contains_more_than_n_stopwords(doc, n=1):\n",
    "    if sum([t in spacy_stopwords for t in doc.split()]) > n:\n",
    "        return True\n",
    "    return False"
   ]
  },
  {
   "cell_type": "code",
   "execution_count": 103,
   "metadata": {},
   "outputs": [
    {
     "data": {
      "text/html": [
       "<div>\n",
       "<style scoped>\n",
       "    .dataframe tbody tr th:only-of-type {\n",
       "        vertical-align: middle;\n",
       "    }\n",
       "\n",
       "    .dataframe tbody tr th {\n",
       "        vertical-align: top;\n",
       "    }\n",
       "\n",
       "    .dataframe thead th {\n",
       "        text-align: right;\n",
       "    }\n",
       "</style>\n",
       "<table border=\"1\" class=\"dataframe\">\n",
       "  <thead>\n",
       "    <tr style=\"text-align: right;\">\n",
       "      <th></th>\n",
       "      <th>phrase</th>\n",
       "      <th>score</th>\n",
       "    </tr>\n",
       "  </thead>\n",
       "  <tbody>\n",
       "    <tr>\n",
       "      <th>1</th>\n",
       "      <td>4 k</td>\n",
       "      <td>29.823529</td>\n",
       "    </tr>\n",
       "    <tr>\n",
       "      <th>3</th>\n",
       "      <td>dolby vision</td>\n",
       "      <td>15.810277</td>\n",
       "    </tr>\n",
       "    <tr>\n",
       "      <th>4</th>\n",
       "      <td>picture quality</td>\n",
       "      <td>13.313034</td>\n",
       "    </tr>\n",
       "    <tr>\n",
       "      <th>8</th>\n",
       "      <td>itv hub</td>\n",
       "      <td>7.363636</td>\n",
       "    </tr>\n",
       "    <tr>\n",
       "      <th>9</th>\n",
       "      <td>master series</td>\n",
       "      <td>7.062069</td>\n",
       "    </tr>\n",
       "    <tr>\n",
       "      <th>10</th>\n",
       "      <td>sound bar</td>\n",
       "      <td>6.828387</td>\n",
       "    </tr>\n",
       "    <tr>\n",
       "      <th>11</th>\n",
       "      <td>geek squad</td>\n",
       "      <td>6.000000</td>\n",
       "    </tr>\n",
       "    <tr>\n",
       "      <th>15</th>\n",
       "      <td>bbc iplayer</td>\n",
       "      <td>4.524887</td>\n",
       "    </tr>\n",
       "    <tr>\n",
       "      <th>19</th>\n",
       "      <td>best buy</td>\n",
       "      <td>2.723178</td>\n",
       "    </tr>\n",
       "    <tr>\n",
       "      <th>25</th>\n",
       "      <td>weeks ago</td>\n",
       "      <td>2.414286</td>\n",
       "    </tr>\n",
       "    <tr>\n",
       "      <th>29</th>\n",
       "      <td>year old</td>\n",
       "      <td>2.197000</td>\n",
       "    </tr>\n",
       "    <tr>\n",
       "      <th>30</th>\n",
       "      <td>blown away</td>\n",
       "      <td>2.106996</td>\n",
       "    </tr>\n",
       "    <tr>\n",
       "      <th>31</th>\n",
       "      <td>total tech</td>\n",
       "      <td>2.076923</td>\n",
       "    </tr>\n",
       "    <tr>\n",
       "      <th>32</th>\n",
       "      <td>operating system</td>\n",
       "      <td>2.047692</td>\n",
       "    </tr>\n",
       "    <tr>\n",
       "      <th>34</th>\n",
       "      <td>bravia core</td>\n",
       "      <td>2.032941</td>\n",
       "    </tr>\n",
       "    <tr>\n",
       "      <th>36</th>\n",
       "      <td>fingers crossed</td>\n",
       "      <td>2.000000</td>\n",
       "    </tr>\n",
       "    <tr>\n",
       "      <th>37</th>\n",
       "      <td>jbl 501</td>\n",
       "      <td>2.000000</td>\n",
       "    </tr>\n",
       "    <tr>\n",
       "      <th>38</th>\n",
       "      <td>tone mapping</td>\n",
       "      <td>2.000000</td>\n",
       "    </tr>\n",
       "    <tr>\n",
       "      <th>43</th>\n",
       "      <td>bravia xr</td>\n",
       "      <td>1.730769</td>\n",
       "    </tr>\n",
       "    <tr>\n",
       "      <th>46</th>\n",
       "      <td>wall mount</td>\n",
       "      <td>1.562500</td>\n",
       "    </tr>\n",
       "    <tr>\n",
       "      <th>48</th>\n",
       "      <td>black levels</td>\n",
       "      <td>1.500000</td>\n",
       "    </tr>\n",
       "    <tr>\n",
       "      <th>49</th>\n",
       "      <td>heat sink</td>\n",
       "      <td>1.500000</td>\n",
       "    </tr>\n",
       "    <tr>\n",
       "      <th>50</th>\n",
       "      <td>living room</td>\n",
       "      <td>1.497076</td>\n",
       "    </tr>\n",
       "    <tr>\n",
       "      <th>52</th>\n",
       "      <td>viewing angles</td>\n",
       "      <td>1.388889</td>\n",
       "    </tr>\n",
       "    <tr>\n",
       "      <th>58</th>\n",
       "      <td>a9 g</td>\n",
       "      <td>1.333333</td>\n",
       "    </tr>\n",
       "  </tbody>\n",
       "</table>\n",
       "</div>"
      ],
      "text/plain": [
       "              phrase      score\n",
       "1                4 k  29.823529\n",
       "3       dolby vision  15.810277\n",
       "4    picture quality  13.313034\n",
       "8            itv hub   7.363636\n",
       "9      master series   7.062069\n",
       "10         sound bar   6.828387\n",
       "11        geek squad   6.000000\n",
       "15       bbc iplayer   4.524887\n",
       "19          best buy   2.723178\n",
       "25         weeks ago   2.414286\n",
       "29          year old   2.197000\n",
       "30        blown away   2.106996\n",
       "31        total tech   2.076923\n",
       "32  operating system   2.047692\n",
       "34       bravia core   2.032941\n",
       "36   fingers crossed   2.000000\n",
       "37           jbl 501   2.000000\n",
       "38      tone mapping   2.000000\n",
       "43         bravia xr   1.730769\n",
       "46        wall mount   1.562500\n",
       "48      black levels   1.500000\n",
       "49         heat sink   1.500000\n",
       "50       living room   1.497076\n",
       "52    viewing angles   1.388889\n",
       "58              a9 g   1.333333"
      ]
     },
     "execution_count": 103,
     "metadata": {},
     "output_type": "execute_result"
    }
   ],
   "source": [
    "ngram_no_punct_df[ngram_no_punct_df['phrase'].apply(lambda p: not contains_stopword(p))].head(25)"
   ]
  },
  {
   "cell_type": "code",
   "execution_count": 104,
   "metadata": {},
   "outputs": [
    {
     "data": {
      "text/html": [
       "<div>\n",
       "<style scoped>\n",
       "    .dataframe tbody tr th:only-of-type {\n",
       "        vertical-align: middle;\n",
       "    }\n",
       "\n",
       "    .dataframe tbody tr th {\n",
       "        vertical-align: top;\n",
       "    }\n",
       "\n",
       "    .dataframe thead th {\n",
       "        text-align: right;\n",
       "    }\n",
       "</style>\n",
       "<table border=\"1\" class=\"dataframe\">\n",
       "  <thead>\n",
       "    <tr style=\"text-align: right;\">\n",
       "      <th></th>\n",
       "      <th>phrase</th>\n",
       "      <th>score</th>\n",
       "    </tr>\n",
       "  </thead>\n",
       "  <tbody>\n",
       "    <tr>\n",
       "      <th>1</th>\n",
       "      <td>4 k</td>\n",
       "      <td>29.823529</td>\n",
       "    </tr>\n",
       "    <tr>\n",
       "      <th>3</th>\n",
       "      <td>dolby vision</td>\n",
       "      <td>15.810277</td>\n",
       "    </tr>\n",
       "    <tr>\n",
       "      <th>4</th>\n",
       "      <td>picture quality</td>\n",
       "      <td>13.313034</td>\n",
       "    </tr>\n",
       "    <tr>\n",
       "      <th>5</th>\n",
       "      <td>this tv</td>\n",
       "      <td>12.732903</td>\n",
       "    </tr>\n",
       "    <tr>\n",
       "      <th>8</th>\n",
       "      <td>itv hub</td>\n",
       "      <td>7.363636</td>\n",
       "    </tr>\n",
       "    <tr>\n",
       "      <th>9</th>\n",
       "      <td>master series</td>\n",
       "      <td>7.062069</td>\n",
       "    </tr>\n",
       "    <tr>\n",
       "      <th>10</th>\n",
       "      <td>sound bar</td>\n",
       "      <td>6.828387</td>\n",
       "    </tr>\n",
       "    <tr>\n",
       "      <th>11</th>\n",
       "      <td>geek squad</td>\n",
       "      <td>6.000000</td>\n",
       "    </tr>\n",
       "    <tr>\n",
       "      <th>14</th>\n",
       "      <td>the best</td>\n",
       "      <td>4.942757</td>\n",
       "    </tr>\n",
       "    <tr>\n",
       "      <th>15</th>\n",
       "      <td>bbc iplayer</td>\n",
       "      <td>4.524887</td>\n",
       "    </tr>\n",
       "    <tr>\n",
       "      <th>16</th>\n",
       "      <td>set up</td>\n",
       "      <td>3.656186</td>\n",
       "    </tr>\n",
       "    <tr>\n",
       "      <th>17</th>\n",
       "      <td>ever seen</td>\n",
       "      <td>3.439276</td>\n",
       "    </tr>\n",
       "    <tr>\n",
       "      <th>19</th>\n",
       "      <td>best buy</td>\n",
       "      <td>2.723178</td>\n",
       "    </tr>\n",
       "    <tr>\n",
       "      <th>20</th>\n",
       "      <td>better than</td>\n",
       "      <td>2.688244</td>\n",
       "    </tr>\n",
       "    <tr>\n",
       "      <th>25</th>\n",
       "      <td>weeks ago</td>\n",
       "      <td>2.414286</td>\n",
       "    </tr>\n",
       "    <tr>\n",
       "      <th>29</th>\n",
       "      <td>year old</td>\n",
       "      <td>2.197000</td>\n",
       "    </tr>\n",
       "    <tr>\n",
       "      <th>30</th>\n",
       "      <td>blown away</td>\n",
       "      <td>2.106996</td>\n",
       "    </tr>\n",
       "    <tr>\n",
       "      <th>31</th>\n",
       "      <td>total tech</td>\n",
       "      <td>2.076923</td>\n",
       "    </tr>\n",
       "    <tr>\n",
       "      <th>32</th>\n",
       "      <td>operating system</td>\n",
       "      <td>2.047692</td>\n",
       "    </tr>\n",
       "    <tr>\n",
       "      <th>33</th>\n",
       "      <td>the picture</td>\n",
       "      <td>2.039401</td>\n",
       "    </tr>\n",
       "    <tr>\n",
       "      <th>34</th>\n",
       "      <td>bravia core</td>\n",
       "      <td>2.032941</td>\n",
       "    </tr>\n",
       "    <tr>\n",
       "      <th>35</th>\n",
       "      <td>easy to</td>\n",
       "      <td>2.011619</td>\n",
       "    </tr>\n",
       "    <tr>\n",
       "      <th>36</th>\n",
       "      <td>fingers crossed</td>\n",
       "      <td>2.000000</td>\n",
       "    </tr>\n",
       "    <tr>\n",
       "      <th>37</th>\n",
       "      <td>jbl 501</td>\n",
       "      <td>2.000000</td>\n",
       "    </tr>\n",
       "    <tr>\n",
       "      <th>38</th>\n",
       "      <td>tone mapping</td>\n",
       "      <td>2.000000</td>\n",
       "    </tr>\n",
       "  </tbody>\n",
       "</table>\n",
       "</div>"
      ],
      "text/plain": [
       "              phrase      score\n",
       "1                4 k  29.823529\n",
       "3       dolby vision  15.810277\n",
       "4    picture quality  13.313034\n",
       "5            this tv  12.732903\n",
       "8            itv hub   7.363636\n",
       "9      master series   7.062069\n",
       "10         sound bar   6.828387\n",
       "11        geek squad   6.000000\n",
       "14          the best   4.942757\n",
       "15       bbc iplayer   4.524887\n",
       "16            set up   3.656186\n",
       "17         ever seen   3.439276\n",
       "19          best buy   2.723178\n",
       "20       better than   2.688244\n",
       "25         weeks ago   2.414286\n",
       "29          year old   2.197000\n",
       "30        blown away   2.106996\n",
       "31        total tech   2.076923\n",
       "32  operating system   2.047692\n",
       "33       the picture   2.039401\n",
       "34       bravia core   2.032941\n",
       "35           easy to   2.011619\n",
       "36   fingers crossed   2.000000\n",
       "37           jbl 501   2.000000\n",
       "38      tone mapping   2.000000"
      ]
     },
     "execution_count": 104,
     "metadata": {},
     "output_type": "execute_result"
    }
   ],
   "source": [
    "ngram_no_punct_df[ngram_no_punct_df['phrase'].apply(lambda p: not contains_more_than_n_stopwords(p))].head(25)"
   ]
  },
  {
   "cell_type": "code",
   "execution_count": null,
   "metadata": {},
   "outputs": [],
   "source": []
  }
 ],
 "metadata": {
  "interpreter": {
   "hash": "7f54399830bbbc072644b83a18bcca8782c4daf93d62544fb85b1f9757394fef"
  },
  "kernelspec": {
   "display_name": "Python 3.10.4 ('gabby-env')",
   "language": "python",
   "name": "python3"
  },
  "language_info": {
   "codemirror_mode": {
    "name": "ipython",
    "version": 3
   },
   "file_extension": ".py",
   "mimetype": "text/x-python",
   "name": "python",
   "nbconvert_exporter": "python",
   "pygments_lexer": "ipython3",
   "version": "3.10.4"
  },
  "orig_nbformat": 4
 },
 "nbformat": 4,
 "nbformat_minor": 2
}
